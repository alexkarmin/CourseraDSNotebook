{
 "cells": [
  {
   "cell_type": "markdown",
   "id": "ec698048-581b-4ac4-8b8c-d305fe2a2401",
   "metadata": {
    "tags": []
   },
   "source": [
    "# Data Science Tools and Ecosystem"
   ]
  },
  {
   "cell_type": "markdown",
   "id": "5ee5e967-7553-454f-bda0-cf767d8b9384",
   "metadata": {},
   "source": [
    "In this notebook, Data Science Tools and Ecosystem are summarized."
   ]
  },
  {
   "cell_type": "markdown",
   "id": "c86ac2e8-51a9-4b88-beb5-56369fcf7f4a",
   "metadata": {},
   "source": [
    "**Objective**\n",
    "\n",
    "- Learn popular languages\n",
    "- Learn common libraries\n",
    "- List data science tools\n",
    "- Perform multiplication and addition\n",
    "- Perform division"
   ]
  },
  {
   "cell_type": "markdown",
   "id": "030c1df3-4de8-45b0-b5bf-4e12097f7d72",
   "metadata": {},
   "source": [
    "Some of the popular languages that Data Scientists use are:\n",
    "\n",
    "    1. Python\n",
    "    2. R\n",
    "    3. C++"
   ]
  },
  {
   "cell_type": "markdown",
   "id": "3d9992a3-d07f-45b4-b9f3-a8be572b6766",
   "metadata": {},
   "source": [
    "Some of the commonly used libraries used by Data Scientists include:\n",
    "\n",
    "    1. pandas\n",
    "    2. NumPy\n",
    "    3. SciPy"
   ]
  },
  {
   "cell_type": "markdown",
   "id": "f1bd0a13-8cac-4bc2-989b-a97fb43d71e5",
   "metadata": {
    "tags": []
   },
   "source": [
    "Data Science Tools |\n",
    "------------------ |\n",
    "GitHub |\n",
    "Anaconda |\n",
    "Jupyter Notebook |"
   ]
  },
  {
   "cell_type": "markdown",
   "id": "885f28ad-71cd-468b-915f-3ec6576eb6d2",
   "metadata": {},
   "source": [
    "### Below are a few examples of evaluating arithmetic expressions in Python"
   ]
  },
  {
   "cell_type": "code",
   "execution_count": 2,
   "id": "253cfef5-5dc4-4132-88c7-421117b796d7",
   "metadata": {
    "tags": []
   },
   "outputs": [
    {
     "data": {
      "text/plain": [
       "17"
      ]
     },
     "execution_count": 2,
     "metadata": {},
     "output_type": "execute_result"
    }
   ],
   "source": [
    "# This is a simple arithmetic expression to multiply then add integers\n",
    "\n",
    "(3*4)+5"
   ]
  },
  {
   "cell_type": "code",
   "execution_count": 3,
   "id": "5ab4bb16-e8d7-4fae-9d39-d47f2f61d803",
   "metadata": {
    "tags": []
   },
   "outputs": [
    {
     "data": {
      "text/plain": [
       "3.3333333333333335"
      ]
     },
     "execution_count": 3,
     "metadata": {},
     "output_type": "execute_result"
    }
   ],
   "source": [
    "# This will convert 200 minutes to hours by dividing by 60\n",
    "\n",
    "200/60"
   ]
  },
  {
   "cell_type": "markdown",
   "id": "9f2795a6-7ab2-4939-bfbe-777e41f3eba7",
   "metadata": {},
   "source": [
    "## Author\n",
    "Alex"
   ]
  },
  {
   "cell_type": "code",
   "execution_count": null,
   "id": "0768adce-52e4-4f0b-a8a9-641fbded70d5",
   "metadata": {},
   "outputs": [],
   "source": []
  }
 ],
 "metadata": {
  "kernelspec": {
   "display_name": "Python",
   "language": "python",
   "name": "conda-env-python-py"
  },
  "language_info": {
   "codemirror_mode": {
    "name": "ipython",
    "version": 3
   },
   "file_extension": ".py",
   "mimetype": "text/x-python",
   "name": "python",
   "nbconvert_exporter": "python",
   "pygments_lexer": "ipython3",
   "version": "3.7.12"
  }
 },
 "nbformat": 4,
 "nbformat_minor": 5
}
